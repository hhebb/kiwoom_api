{
 "cells": [
  {
   "cell_type": "code",
   "execution_count": 1,
   "metadata": {},
   "outputs": [],
   "source": [
    "import preprocess\n",
    "import trader\n",
    "import helper\n",
    "import pymysql\n",
    "import matplotlib.pyplot as plt\n",
    "import kwapi\n",
    "from PyQt5.QAxContainer import *\n",
    "from PyQt5.QtWidgets import *\n",
    "import sys\n"
   ]
  },
  {
   "cell_type": "code",
   "execution_count": 2,
   "metadata": {},
   "outputs": [
    {
     "name": "stdout",
     "output_type": "stream",
     "text": [
      "login is done 0\n",
      "0101 opt10001 opt10001  0\n",
      "삼성전자 7.94 1.26\n"
     ]
    }
   ],
   "source": [
    "from kiwoom_class import Kiwoom\n",
    "\n",
    "\n",
    "if __name__ == \"__main__\":\n",
    "    app = QApplication(sys.argv)\n",
    "\n",
    "    kiwoom = Kiwoom()\n",
    "    kiwoom.CommConnect()\n",
    "\n",
    "    kiwoom.SetInputValue(\"종목코드\", \"005930\")\n",
    "    kiwoom.CommRqData(\"opt10001\", \"opt10001\", 0, \"0101\")\n"
   ]
  }
 ],
 "metadata": {
  "kernelspec": {
   "display_name": "Python 3",
   "language": "python",
   "name": "python3"
  },
  "language_info": {
   "codemirror_mode": {
    "name": "ipython",
    "version": 3
   },
   "file_extension": ".py",
   "mimetype": "text/x-python",
   "name": "python",
   "nbconvert_exporter": "python",
   "pygments_lexer": "ipython3",
   "version": "3.9.7"
  },
  "orig_nbformat": 4
 },
 "nbformat": 4,
 "nbformat_minor": 2
}
