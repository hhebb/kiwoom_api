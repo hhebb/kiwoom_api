{
 "cells": [
  {
   "cell_type": "code",
   "execution_count": 1,
   "metadata": {},
   "outputs": [
    {
     "name": "stdout",
     "output_type": "stream",
     "text": [
      "login is done 0\n"
     ]
    }
   ],
   "source": [
    "from src.collector.collect import *\n",
    "from src.collector.exchanges.kiwoom import *\n",
    "from PyQt5.QtWidgets import *\n",
    "import sys\n",
    "\n",
    "app = QApplication(sys.argv)\n",
    "\n",
    "collector = Collector()\n",
    "kiwoom = KiwoomExchange()\n",
    "preference = Preference()\n",
    "kiwoom.connect()\n",
    "\n",
    "collector.set_preference(preference)\n",
    "collector.set_exchange(kiwoom)\n",
    "\n",
    "collector.execute()"
   ]
  },
  {
   "cell_type": "code",
   "execution_count": 3,
   "metadata": {},
   "outputs": [
    {
     "name": "stdout",
     "output_type": "stream",
     "text": [
      "True\n"
     ]
    }
   ],
   "source": [
    "from datetime import datetime, timedelta\n",
    "\n",
    "date_string = \"20230406153000\"\n",
    "date_format = \"%Y%m%d%H%M%S\"\n",
    "\n",
    "datetime_obj = datetime.strptime(date_string, date_format)\n",
    "datetime_compare = datetime.strptime('20220103', \"%Y%m%d\")\n",
    "print(datetime_obj >  datetime_compare)\n"
   ]
  },
  {
   "cell_type": "code",
   "execution_count": 5,
   "metadata": {},
   "outputs": [],
   "source": [
    "df = pd.read_csv(r'C:\\Users\\HEBB\\Desktop\\vsc\\kiwoom\\stock\\candle\\1s\\005930.csv')"
   ]
  },
  {
   "cell_type": "code",
   "execution_count": 13,
   "metadata": {},
   "outputs": [
    {
     "data": {
      "text/plain": [
       "datetime.datetime(2023, 4, 5, 13, 5)"
      ]
     },
     "execution_count": 13,
     "metadata": {},
     "output_type": "execute_result"
    }
   ],
   "source": [
    "datetime.strptime(str(df.iloc[0]['datetime']), \"%Y%m%d%H%M%S\")"
   ]
  }
 ],
 "metadata": {
  "kernelspec": {
   "display_name": "Python 3",
   "language": "python",
   "name": "python3"
  },
  "language_info": {
   "codemirror_mode": {
    "name": "ipython",
    "version": 3
   },
   "file_extension": ".py",
   "mimetype": "text/x-python",
   "name": "python",
   "nbconvert_exporter": "python",
   "pygments_lexer": "ipython3",
   "version": "3.9.7"
  },
  "orig_nbformat": 4
 },
 "nbformat": 4,
 "nbformat_minor": 2
}
